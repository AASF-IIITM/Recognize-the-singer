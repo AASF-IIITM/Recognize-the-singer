{
 "cells": [
  {
   "cell_type": "code",
   "execution_count": 7,
   "metadata": {},
   "outputs": [],
   "source": [
    "import os, shutil\n",
    "import numpy as np"
   ]
  },
  {
   "cell_type": "code",
   "execution_count": 8,
   "metadata": {},
   "outputs": [
    {
     "name": "stdout",
     "output_type": "stream",
     "text": [
      "['arijit_singh', 'avril_lavigne', 'ed_sheeran', 'lata_mangeshkar', 'sonu_nigam', 'taylor_swift']\n",
      "['test', 'train', 'validation']\n"
     ]
    }
   ],
   "source": [
    "base_dir='D:/Project- voice recognition of singers'\n",
    "src_dir=base_dir+'/split'\n",
    "dest_dir=base_dir+'/split_dataset'\n",
    "folders=os.listdir(src_dir)\n",
    "directories=os.listdir(dest_dir)\n",
    "print(folders)\n",
    "print(directories)"
   ]
  },
  {
   "cell_type": "code",
   "execution_count": 9,
   "metadata": {},
   "outputs": [
    {
     "name": "stdout",
     "output_type": "stream",
     "text": [
      "D:/Project- voice recognition of singers\n",
      "D:/Project- voice recognition of singers/split\n",
      "D:/Project- voice recognition of singers/split_dataset\n"
     ]
    }
   ],
   "source": [
    "print(base_dir)\n",
    "print(src_dir)\n",
    "print(dest_dir)"
   ]
  },
  {
   "cell_type": "code",
   "execution_count": 10,
   "metadata": {},
   "outputs": [
    {
     "name": "stdout",
     "output_type": "stream",
     "text": [
      "420\n"
     ]
    }
   ],
   "source": [
    "#600 is total specs in a singer folder ....songs each singer:40 , clips each song:5 , augmentation each clip:3\n",
    "tr_c=600*0.7\n",
    "te_c=600*0.15\n",
    "val_c=600*0.15\n",
    "tr_c=int(tr_c)\n",
    "te_c=int(te_c)\n",
    "val_c=int(te_c)\n",
    "print(tr_c)"
   ]
  },
  {
   "cell_type": "code",
   "execution_count": null,
   "metadata": {},
   "outputs": [],
   "source": []
  },
  {
   "cell_type": "code",
   "execution_count": 11,
   "metadata": {},
   "outputs": [],
   "source": [
    "for folder in folders:\n",
    "    ctr=1\n",
    "    clips=os.listdir(src_dir+'/'+folder)\n",
    "    #specs= np.asarray(clips)\n",
    "    #print(specs.shape)\n",
    "    #specs=specs.reshape((600,1))\n",
    "    #print(specs.shape)\n",
    "    dest_tr=dest_dir + '/train' + '/' + folder\n",
    "    dest_te=dest_dir + '/test' + '/' + folder\n",
    "    dest_val=dest_dir + '/validation' + '/' + folder\n",
    "    \n",
    "    for clip in clips:\n",
    "        \n",
    "        good= src_dir +'/' +folder +'/' + clip\n",
    "        \n",
    "        \n",
    "        if(ctr<=tr_c):\n",
    "            shutil.copy(good, dest_tr)\n",
    "            ctr+=1\n",
    "            \n",
    "        elif(ctr>tr_c and ctr<=(tr_c+val_c)):\n",
    "            shutil.copy(good, dest_val)\n",
    "            ctr+=1\n",
    "            \n",
    "        else:\n",
    "            shutil.copy(good, dest_te)\n",
    "            ctr+=1\n",
    "\n",
    "   "
   ]
  }
 ],
 "metadata": {
  "kernelspec": {
   "display_name": "Python 3",
   "language": "python",
   "name": "python3"
  },
  "language_info": {
   "codemirror_mode": {
    "name": "ipython",
    "version": 3
   },
   "file_extension": ".py",
   "mimetype": "text/x-python",
   "name": "python",
   "nbconvert_exporter": "python",
   "pygments_lexer": "ipython3",
   "version": "3.7.4"
  }
 },
 "nbformat": 4,
 "nbformat_minor": 2
}
